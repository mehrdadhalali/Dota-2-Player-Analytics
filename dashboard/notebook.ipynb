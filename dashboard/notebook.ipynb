{
 "cells": [
  {
   "cell_type": "code",
   "execution_count": 29,
   "metadata": {},
   "outputs": [],
   "source": [
    "from database import get_all_data\n",
    "from charts import turn_into_dataframe\n",
    "import altair as alt\n",
    "import pandas as pd"
   ]
  },
  {
   "cell_type": "code",
   "execution_count": 30,
   "metadata": {},
   "outputs": [],
   "source": [
    "df = turn_into_dataframe(get_all_data())"
   ]
  },
  {
   "cell_type": "code",
   "execution_count": null,
   "metadata": {},
   "outputs": [],
   "source": [
    "games_per_hero = df[\"hero_name\"].value_counts().reset_index()\n",
    "games_per_hero = games_per_hero[:10]\n",
    "top_10_heroes = games_per_hero[\"hero_name\"].tolist()\n",
    "\n",
    "\n"
   ]
  },
  {
   "cell_type": "code",
   "execution_count": 40,
   "metadata": {},
   "outputs": [],
   "source": [
    "hero_wl = df.groupby([\"hero_name\", \"won\"]).size().reset_index()\n",
    "hero_wl = hero_wl[hero_wl[\"hero_name\"].isin(top_10_heroes)]\n",
    "hero_wl.columns = [\"hero_name\", \"won\", \"count\"]\n"
   ]
  },
  {
   "cell_type": "code",
   "execution_count": 50,
   "metadata": {},
   "outputs": [
    {
     "data": {
      "text/html": [
       "\n",
       "<style>\n",
       "  #altair-viz-984c3023b3ae4627969b6dc73a86929b.vega-embed {\n",
       "    width: 100%;\n",
       "    display: flex;\n",
       "  }\n",
       "\n",
       "  #altair-viz-984c3023b3ae4627969b6dc73a86929b.vega-embed details,\n",
       "  #altair-viz-984c3023b3ae4627969b6dc73a86929b.vega-embed details summary {\n",
       "    position: relative;\n",
       "  }\n",
       "</style>\n",
       "<div id=\"altair-viz-984c3023b3ae4627969b6dc73a86929b\"></div>\n",
       "<script type=\"text/javascript\">\n",
       "  var VEGA_DEBUG = (typeof VEGA_DEBUG == \"undefined\") ? {} : VEGA_DEBUG;\n",
       "  (function(spec, embedOpt){\n",
       "    let outputDiv = document.currentScript.previousElementSibling;\n",
       "    if (outputDiv.id !== \"altair-viz-984c3023b3ae4627969b6dc73a86929b\") {\n",
       "      outputDiv = document.getElementById(\"altair-viz-984c3023b3ae4627969b6dc73a86929b\");\n",
       "    }\n",
       "    const paths = {\n",
       "      \"vega\": \"https://cdn.jsdelivr.net/npm/vega@5?noext\",\n",
       "      \"vega-lib\": \"https://cdn.jsdelivr.net/npm/vega-lib?noext\",\n",
       "      \"vega-lite\": \"https://cdn.jsdelivr.net/npm/vega-lite@5.20.1?noext\",\n",
       "      \"vega-embed\": \"https://cdn.jsdelivr.net/npm/vega-embed@6?noext\",\n",
       "    };\n",
       "\n",
       "    function maybeLoadScript(lib, version) {\n",
       "      var key = `${lib.replace(\"-\", \"\")}_version`;\n",
       "      return (VEGA_DEBUG[key] == version) ?\n",
       "        Promise.resolve(paths[lib]) :\n",
       "        new Promise(function(resolve, reject) {\n",
       "          var s = document.createElement('script');\n",
       "          document.getElementsByTagName(\"head\")[0].appendChild(s);\n",
       "          s.async = true;\n",
       "          s.onload = () => {\n",
       "            VEGA_DEBUG[key] = version;\n",
       "            return resolve(paths[lib]);\n",
       "          };\n",
       "          s.onerror = () => reject(`Error loading script: ${paths[lib]}`);\n",
       "          s.src = paths[lib];\n",
       "        });\n",
       "    }\n",
       "\n",
       "    function showError(err) {\n",
       "      outputDiv.innerHTML = `<div class=\"error\" style=\"color:red;\">${err}</div>`;\n",
       "      throw err;\n",
       "    }\n",
       "\n",
       "    function displayChart(vegaEmbed) {\n",
       "      vegaEmbed(outputDiv, spec, embedOpt)\n",
       "        .catch(err => showError(`Javascript Error: ${err.message}<br>This usually means there's a typo in your chart specification. See the javascript console for the full traceback.`));\n",
       "    }\n",
       "\n",
       "    if(typeof define === \"function\" && define.amd) {\n",
       "      requirejs.config({paths});\n",
       "      require([\"vega-embed\"], displayChart, err => showError(`Error loading script: ${err.message}`));\n",
       "    } else {\n",
       "      maybeLoadScript(\"vega\", \"5\")\n",
       "        .then(() => maybeLoadScript(\"vega-lite\", \"5.20.1\"))\n",
       "        .then(() => maybeLoadScript(\"vega-embed\", \"6\"))\n",
       "        .catch(showError)\n",
       "        .then(() => displayChart(vegaEmbed));\n",
       "    }\n",
       "  })({\"config\": {\"view\": {\"continuousWidth\": 300, \"continuousHeight\": 300}}, \"data\": {\"name\": \"data-7c60d66f7ee5e36beb5bf59d77f99bad\"}, \"mark\": {\"type\": \"bar\"}, \"encoding\": {\"color\": {\"field\": \"won\", \"scale\": {\"range\": [\"#ff0000\", \"#32CD32\"]}, \"type\": \"nominal\"}, \"x\": {\"field\": \"hero_name\", \"sort\": \"-y\", \"title\": \"Hero\", \"type\": \"nominal\"}, \"y\": {\"field\": \"count\", \"title\": \"Number of games\", \"type\": \"quantitative\"}}, \"$schema\": \"https://vega.github.io/schema/vega-lite/v5.20.1.json\", \"datasets\": {\"data-7c60d66f7ee5e36beb5bf59d77f99bad\": [{\"hero_name\": \"Abaddon\", \"won\": false, \"count\": 46}, {\"hero_name\": \"Abaddon\", \"won\": true, \"count\": 67}, {\"hero_name\": \"Bristleback\", \"won\": false, \"count\": 59}, {\"hero_name\": \"Bristleback\", \"won\": true, \"count\": 69}, {\"hero_name\": \"Death Prophet\", \"won\": false, \"count\": 47}, {\"hero_name\": \"Death Prophet\", \"won\": true, \"count\": 64}, {\"hero_name\": \"Drow Ranger\", \"won\": false, \"count\": 68}, {\"hero_name\": \"Drow Ranger\", \"won\": true, \"count\": 58}, {\"hero_name\": \"Enchantress\", \"won\": false, \"count\": 51}, {\"hero_name\": \"Enchantress\", \"won\": true, \"count\": 67}, {\"hero_name\": \"Ogre Magi\", \"won\": false, \"count\": 84}, {\"hero_name\": \"Ogre Magi\", \"won\": true, \"count\": 117}, {\"hero_name\": \"Primal Beast\", \"won\": false, \"count\": 56}, {\"hero_name\": \"Primal Beast\", \"won\": true, \"count\": 58}, {\"hero_name\": \"Sand King\", \"won\": false, \"count\": 61}, {\"hero_name\": \"Sand King\", \"won\": true, \"count\": 62}, {\"hero_name\": \"Sniper\", \"won\": false, \"count\": 53}, {\"hero_name\": \"Sniper\", \"won\": true, \"count\": 63}, {\"hero_name\": \"Wraith King\", \"won\": false, \"count\": 54}, {\"hero_name\": \"Wraith King\", \"won\": true, \"count\": 78}]}}, {\"mode\": \"vega-lite\"});\n",
       "</script>"
      ],
      "text/plain": [
       "alt.Chart(...)"
      ]
     },
     "execution_count": 50,
     "metadata": {},
     "output_type": "execute_result"
    }
   ],
   "source": [
    "alt.Chart(hero_wl).mark_bar().encode(\n",
    "    x=alt.X(\"hero_name\", title=\"Hero\").sort(\"-y\"),\n",
    "    y=alt.Y(\"count\", title=\"Number of games\"),\n",
    "    color=alt.Color(\"won\", scale=alt.Scale(range=['#ff0000', '#32CD32']))\n",
    ")"
   ]
  }
 ],
 "metadata": {
  "kernelspec": {
   "display_name": "venv",
   "language": "python",
   "name": "python3"
  },
  "language_info": {
   "codemirror_mode": {
    "name": "ipython",
    "version": 3
   },
   "file_extension": ".py",
   "mimetype": "text/x-python",
   "name": "python",
   "nbconvert_exporter": "python",
   "pygments_lexer": "ipython3",
   "version": "3.9.6"
  }
 },
 "nbformat": 4,
 "nbformat_minor": 2
}
